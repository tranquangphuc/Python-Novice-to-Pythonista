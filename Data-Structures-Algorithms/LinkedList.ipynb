{
 "cells": [
  {
   "cell_type": "markdown",
   "metadata": {},
   "source": [
    "## Linked list\n",
    "Linked List is a linear data structure. Unlike arrays, linked list elements are not stored at contiguous location; the elements are linked using pointers."
   ]
  },
  {
   "cell_type": "markdown",
   "metadata": {},
   "source": [
    "We are creating a specific class to add single element in linked list,when the linked list is empty. "
   ]
  },
  {
   "cell_type": "markdown",
   "metadata": {},
   "source": [
    "Creating  class with two function. So basically the first method __init__ is a constructor of the class Node.<br>\n",
    "A constructor is an instance method that usually has the same name as the class, and can be used to set the values of the members of an object, either to default or to user-defined values."
   ]
  },
  {
   "cell_type": "markdown",
   "metadata": {},
   "source": [
    "Python __repr__() function returns the object representation. It could be any valid python expression such as tuple, dictionary, string etc. This method is called when repr() function is invoked on the object, in that case, __repr__() function must return a String otherwise error will be thrown"
   ]
  },
  {
   "cell_type": "code",
   "execution_count": 1,
   "metadata": {
    "collapsed": true
   },
   "outputs": [],
   "source": [
    "class Node:\n",
    "    \"\"\"\n",
    "    A node in a singly-linked list.\n",
    "    \"\"\"\n",
    "    def __init__(self, dataval=None, nextval=None):\n",
    "        self.dataval = dataval\n",
    "        self.nextval = nextval\n",
    "\n",
    "    def __repr__(self):\n",
    "        return repr(self.dataval)"
   ]
  },
  {
   "cell_type": "markdown",
   "metadata": {},
   "source": [
    "* prepend - Whenever we will add an element at the beginning of the list,"
   ]
  },
  {
   "cell_type": "code",
   "execution_count": 2,
   "metadata": {
    "collapsed": true
   },
   "outputs": [],
   "source": [
    "class LinkedList:\n",
    "    def __init__(self):\n",
    "        \n",
    "        \"\"\"Creating a new singly-linked list.\"\"\"\n",
    "        \n",
    "        self.head = None\n",
    "\n",
    "    def __repr__(self):\n",
    "            \n",
    "            \"\"\"Creating a string representation of the data in a list\"\"\"\n",
    "    \n",
    "            nodes = []\n",
    "            curr = self.head\n",
    "            \n",
    "            while curr:\n",
    "                nodes.append(repr(curr))\n",
    "                curr = curr.nextval\n",
    "            \n",
    "            return '[' + '->'.join(nodes) + ']'\n",
    "\n",
    "    def prepend(self, dataval):\n",
    "\n",
    "        \"\"\"Insert a new element at the beginning of the list.\"\"\"\n",
    "\n",
    "        self.head = Node(dataval=dataval, nextval=self.head)\n",
    "\n",
    "    def append(self, dataval):\n",
    "\n",
    "        \"\"\"Insert a new element at the end of the list.\"\"\"    \n",
    "\n",
    "        if not self.head:\n",
    "            self.head = Node(dataval=dataval)\n",
    "            return\n",
    "        \n",
    "        curr = self.head\n",
    "        \n",
    "        while curr.nextval:\n",
    "            curr = curr.nextval\n",
    "        \n",
    "        curr.nextval = Node(dataval=dataval)\n",
    "               \n",
    "    def add_after(self, middle_dataval, dataval):\n",
    "\n",
    "        \"\"\"Insert a new element after the node with middle_dataval.\"\"\"     \n",
    "\n",
    "        if middle_dataval is None:\n",
    "            print(\"Data to insert after not specified\")\n",
    "            return\n",
    "        \n",
    "        curr = self.head\n",
    "\n",
    "        while curr and curr.dataval != middle_dataval:\n",
    "            curr = curr.nextval\n",
    "    \n",
    "        new_node = Node(dataval = dataval)\n",
    "        \n",
    "        \n",
    "        new_node.nextval = curr.nextval\n",
    "        curr.nextval = new_node\n",
    "\n",
    "    def find(self, data):\n",
    "\n",
    "        \"\"\"Search for the first element with `dataval` matching\n",
    "        `data`. Return the element or `None` if not found.\"\"\"\n",
    "\n",
    "        curr = self.head\n",
    "        while curr and curr.dataval != data:\n",
    "            curr = curr.nextval\n",
    "\n",
    "        return curr  # Will be None if not found\n",
    "\n",
    "    def remove(self, data):\n",
    "\n",
    "        \"\"\"Remove the first occurrence of `data` in the list.\"\"\"\n",
    "\n",
    "        # Find the element and keep a\n",
    "        # reference to the element preceding it\n",
    "        curr = self.head\n",
    "        prev = None\n",
    "\n",
    "        while curr and curr.dataval != data:\n",
    "            prev = curr\n",
    "            curr = curr.nextval\n",
    "            \n",
    "        # Unlink it from the list\n",
    "        if prev is None:\n",
    "            self.head = curr.nextval\n",
    "        elif curr:\n",
    "            prev.nextval = curr.nextval\n",
    "            curr.nextval = None\n",
    "            \n",
    "    def reverse(self):\n",
    "        \n",
    "        \"\"\"Reverse the list in-place.\"\"\"\n",
    "        \n",
    "        curr = self.head\n",
    "\n",
    "        prev_node = None\n",
    "        next_node = None\n",
    "        \n",
    "        while curr:\n",
    "            nextval = curr.nextval\n",
    "            curr.nextval = prev_node\n",
    "            \n",
    "            prev_node = curr\n",
    "            \n",
    "            curr = nextval   \n",
    "            \n",
    "        self.head = prev_node\n",
    "    \n",
    "\n",
    "    def reverse_recursive(self):\n",
    "        \"\"\"Reverse the list in place using recursion\"\"\"\n",
    "        \n",
    " \n",
    "        def recursion(curr, prev):\n",
    "            if not curr:\n",
    "                return prev\n",
    "            \n",
    "            nextval = curr.nextval\n",
    "            curr.nextval = prev\n",
    "            \n",
    "            prev = curr\n",
    "            curr = nextval\n",
    "            \n",
    "            return recursion(curr, prev)\n",
    " \n",
    "        # update the head of the original linked list \n",
    "        self.head = recursion(curr=self.head, prev=None)\n",
    "        \n",
    "    def count_nodes(self):\n",
    "\n",
    "        \"\"\"Count the number of nodes in the linked list.\"\"\"\n",
    "\n",
    "        if (self.head  == None): \n",
    "            return  0\n",
    "        else: \n",
    "            curr = self.head\n",
    "            count = 0\n",
    "            while (curr != None):\n",
    "                curr = curr.nextval\n",
    "                count += 1            \n",
    "        \n",
    "        return count"
   ]
  },
  {
   "cell_type": "code",
   "execution_count": 3,
   "metadata": {
    "collapsed": true
   },
   "outputs": [],
   "source": [
    "numbers = LinkedList()"
   ]
  },
  {
   "cell_type": "code",
   "execution_count": 4,
   "metadata": {
    "scrolled": true
   },
   "outputs": [
    {
     "data": {
      "text/plain": [
       "[]"
      ]
     },
     "execution_count": 4,
     "metadata": {},
     "output_type": "execute_result"
    }
   ],
   "source": [
    "numbers"
   ]
  },
  {
   "cell_type": "code",
   "execution_count": 5,
   "metadata": {},
   "outputs": [
    {
     "data": {
      "text/plain": [
       "['two'->'three']"
      ]
     },
     "execution_count": 5,
     "metadata": {},
     "output_type": "execute_result"
    }
   ],
   "source": [
    "numbers.append(\"two\")\n",
    "numbers.append(\"three\")\n",
    "\n",
    "numbers"
   ]
  },
  {
   "cell_type": "code",
   "execution_count": 6,
   "metadata": {},
   "outputs": [
    {
     "data": {
      "text/plain": [
       "['one'->'two'->'three']"
      ]
     },
     "execution_count": 6,
     "metadata": {},
     "output_type": "execute_result"
    }
   ],
   "source": [
    "numbers.prepend(\"one\")\n",
    "\n",
    "numbers"
   ]
  },
  {
   "cell_type": "code",
   "execution_count": 7,
   "metadata": {},
   "outputs": [
    {
     "data": {
      "text/plain": [
       "['one'->'two'->'three'->'four'->'five'->'seven']"
      ]
     },
     "execution_count": 7,
     "metadata": {},
     "output_type": "execute_result"
    }
   ],
   "source": [
    "numbers.append(\"four\")\n",
    "numbers.append(\"five\")\n",
    "numbers.append(\"seven\")\n",
    "\n",
    "numbers"
   ]
  },
  {
   "cell_type": "code",
   "execution_count": 8,
   "metadata": {},
   "outputs": [
    {
     "data": {
      "text/plain": [
       "['one'->'two'->'three'->'four'->'five'->'six'->'seven']"
      ]
     },
     "execution_count": 8,
     "metadata": {},
     "output_type": "execute_result"
    }
   ],
   "source": [
    "numbers.add_after(\"five\", \"six\")\n",
    "\n",
    "numbers"
   ]
  },
  {
   "cell_type": "code",
   "execution_count": 9,
   "metadata": {},
   "outputs": [
    {
     "data": {
      "text/plain": [
       "['seven'->'six'->'five'->'four'->'three'->'two'->'one']"
      ]
     },
     "execution_count": 9,
     "metadata": {},
     "output_type": "execute_result"
    }
   ],
   "source": [
    "numbers.reverse()\n",
    "\n",
    "numbers"
   ]
  },
  {
   "cell_type": "code",
   "execution_count": 10,
   "metadata": {},
   "outputs": [
    {
     "data": {
      "text/plain": [
       "['one'->'two'->'three'->'four'->'five'->'six'->'seven']"
      ]
     },
     "execution_count": 10,
     "metadata": {},
     "output_type": "execute_result"
    }
   ],
   "source": [
    "numbers.reverse_recursive()\n",
    "\n",
    "numbers"
   ]
  },
  {
   "cell_type": "code",
   "execution_count": 11,
   "metadata": {},
   "outputs": [
    {
     "data": {
      "text/plain": [
       "['two'->'three'->'four'->'five'->'six'->'seven']"
      ]
     },
     "execution_count": 11,
     "metadata": {},
     "output_type": "execute_result"
    }
   ],
   "source": [
    "numbers.remove('one')\n",
    "\n",
    "numbers"
   ]
  },
  {
   "cell_type": "code",
   "execution_count": 12,
   "metadata": {},
   "outputs": [
    {
     "data": {
      "text/plain": [
       "['two'->'three'->'four'->'five'->'seven']"
      ]
     },
     "execution_count": 12,
     "metadata": {},
     "output_type": "execute_result"
    }
   ],
   "source": [
    "numbers.remove('six')\n",
    "\n",
    "numbers"
   ]
  },
  {
   "cell_type": "code",
   "execution_count": 13,
   "metadata": {},
   "outputs": [
    {
     "data": {
      "text/plain": [
       "5"
      ]
     },
     "execution_count": 13,
     "metadata": {},
     "output_type": "execute_result"
    }
   ],
   "source": [
    "numbers.count_nodes()"
   ]
  },
  {
   "cell_type": "code",
   "execution_count": 14,
   "metadata": {},
   "outputs": [
    {
     "data": {
      "text/plain": [
       "['two'->'three'->'four'->'five'->'seven']"
      ]
     },
     "execution_count": 14,
     "metadata": {},
     "output_type": "execute_result"
    }
   ],
   "source": [
    "numbers"
   ]
  },
  {
   "cell_type": "code",
   "execution_count": null,
   "metadata": {
    "collapsed": true
   },
   "outputs": [],
   "source": []
  }
 ],
 "metadata": {
  "kernelspec": {
   "display_name": "Python 3",
   "language": "python",
   "name": "python3"
  },
  "language_info": {
   "codemirror_mode": {
    "name": "ipython",
    "version": 3
   },
   "file_extension": ".py",
   "mimetype": "text/x-python",
   "name": "python",
   "nbconvert_exporter": "python",
   "pygments_lexer": "ipython3",
   "version": "3.9.1"
  }
 },
 "nbformat": 4,
 "nbformat_minor": 2
}