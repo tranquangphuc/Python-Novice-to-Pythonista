{
 "cells": [
  {
   "cell_type": "markdown",
   "metadata": {},
   "source": [
    "## Topological Sort"
   ]
  },
  {
   "cell_type": "code",
   "execution_count": 1,
   "metadata": {
    "collapsed": true
   },
   "outputs": [],
   "source": [
    "from queue import Queue\n",
    "\n",
    "from graph import *"
   ]
  },
  {
   "cell_type": "code",
   "execution_count": 4,
   "metadata": {
    "collapsed": true
   },
   "outputs": [],
   "source": [
    "def topological_sort(graph):\n",
    "\n",
    "    queue = Queue()\n",
    "    indegree_map = {}\n",
    "\n",
    "    for i in range(graph.num_vertices):\n",
    "        indegree_map[i] = graph.get_indegree(i)\n",
    "\n",
    "        if indegree_map[i] == 0:\n",
    "            queue.put(i)\n",
    "\n",
    "    sorted_list = []\n",
    "\n",
    "    while not queue.empty():\n",
    "        vertex = queue.get()\n",
    "\n",
    "        sorted_list.append(vertex)\n",
    "\n",
    "        for v in graph.get_adjacent_vertices(vertex):\n",
    "            indegree_map[v] = indegree_map[v] - 1\n",
    "\n",
    "            if indegree_map[v] == 0:\n",
    "                queue.put(v)\n",
    "\n",
    "\n",
    "    if len(sorted_list) != graph.num_vertices:\n",
    "        raise ValueError(\"This graph has a cycle!\")\n",
    "\n",
    "    print(sorted_list)"
   ]
  },
  {
   "cell_type": "code",
   "execution_count": 5,
   "metadata": {},
   "outputs": [
    {
     "name": "stdout",
     "output_type": "stream",
     "text": [
      "[0, 7, 1, 2, 8, 3, 5, 4, 6]\n"
     ]
    }
   ],
   "source": [
    "g = AdjacencyMatrixGraph(9, directed=True)\n",
    "\n",
    "g.add_edge(0, 1)\n",
    "g.add_edge(0, 2)\n",
    "g.add_edge(2, 5)\n",
    "g.add_edge(2, 4)\n",
    "g.add_edge(2, 3)\n",
    "g.add_edge(1, 5)\n",
    "g.add_edge(5, 6)\n",
    "g.add_edge(7, 3)\n",
    "g.add_edge(3, 4)\n",
    "g.add_edge(7, 8)\n",
    "\n",
    "topological_sort(g)"
   ]
  },
  {
   "cell_type": "code",
   "execution_count": 10,
   "metadata": {},
   "outputs": [
    {
     "name": "stdout",
     "output_type": "stream",
     "text": [
      "[1, 2, 7, 0, 5, 3, 8, 6, 4]\n"
     ]
    }
   ],
   "source": [
    "g = AdjacencyMatrixGraph(9, directed=True)\n",
    "\n",
    "g.add_edge(1, 0)\n",
    "g.add_edge(2, 0)\n",
    "g.add_edge(2, 5)\n",
    "g.add_edge(2, 4)\n",
    "g.add_edge(2, 3)\n",
    "g.add_edge(1, 5)\n",
    "g.add_edge(5, 6)\n",
    "g.add_edge(7, 3)\n",
    "g.add_edge(3, 4)\n",
    "g.add_edge(7, 8)\n",
    "\n",
    "topological_sort(g)"
   ]
  },
  {
   "cell_type": "code",
   "execution_count": 11,
   "metadata": {},
   "outputs": [
    {
     "ename": "ValueError",
     "evalue": "This graph has a cycle!",
     "output_type": "error",
     "traceback": [
      "\u001b[0;31m--------------------------------------------------------------------------\u001b[0m",
      "\u001b[0;31mValueError\u001b[0m                               Traceback (most recent call last)",
      "\u001b[0;32m<ipython-input-11-5e58a87f0e14>\u001b[0m in \u001b[0;36m<module>\u001b[0;34m\u001b[0m\n\u001b[1;32m     13\u001b[0m \u001b[0mg\u001b[0m\u001b[0;34m.\u001b[0m\u001b[0madd_edge\u001b[0m\u001b[0;34m(\u001b[0m\u001b[0;36m5\u001b[0m\u001b[0;34m,\u001b[0m \u001b[0;36m0\u001b[0m\u001b[0;34m)\u001b[0m\u001b[0;34m\u001b[0m\u001b[0;34m\u001b[0m\u001b[0m\n\u001b[1;32m     14\u001b[0m \u001b[0;34m\u001b[0m\u001b[0m\n\u001b[0;32m---> 15\u001b[0;31m \u001b[0mtopological_sort\u001b[0m\u001b[0;34m(\u001b[0m\u001b[0mg\u001b[0m\u001b[0;34m)\u001b[0m\u001b[0;34m\u001b[0m\u001b[0;34m\u001b[0m\u001b[0m\n\u001b[0m",
      "\u001b[0;32m<ipython-input-4-fd80c2b3c459>\u001b[0m in \u001b[0;36mtopological_sort\u001b[0;34m(graph)\u001b[0m\n\u001b[1;32m     25\u001b[0m \u001b[0;34m\u001b[0m\u001b[0m\n\u001b[1;32m     26\u001b[0m     \u001b[0;32mif\u001b[0m \u001b[0mlen\u001b[0m\u001b[0;34m(\u001b[0m\u001b[0msorted_list\u001b[0m\u001b[0;34m)\u001b[0m \u001b[0;34m!=\u001b[0m \u001b[0mgraph\u001b[0m\u001b[0;34m.\u001b[0m\u001b[0mnum_vertices\u001b[0m\u001b[0;34m:\u001b[0m\u001b[0;34m\u001b[0m\u001b[0;34m\u001b[0m\u001b[0m\n\u001b[0;32m---> 27\u001b[0;31m         \u001b[0;32mraise\u001b[0m \u001b[0mValueError\u001b[0m\u001b[0;34m(\u001b[0m\u001b[0;34m\"This graph has a cycle!\"\u001b[0m\u001b[0;34m)\u001b[0m\u001b[0;34m\u001b[0m\u001b[0;34m\u001b[0m\u001b[0m\n\u001b[0m\u001b[1;32m     28\u001b[0m \u001b[0;34m\u001b[0m\u001b[0m\n\u001b[1;32m     29\u001b[0m     \u001b[0mprint\u001b[0m\u001b[0;34m(\u001b[0m\u001b[0msorted_list\u001b[0m\u001b[0;34m)\u001b[0m\u001b[0;34m\u001b[0m\u001b[0;34m\u001b[0m\u001b[0m\n",
      "\u001b[0;31mValueError\u001b[0m: This graph has a cycle!"
     ]
    }
   ],
   "source": [
    "g = AdjacencyMatrixGraph(9, directed=True)\n",
    "\n",
    "g.add_edge(0, 1)\n",
    "g.add_edge(0, 2)\n",
    "g.add_edge(2, 5)\n",
    "g.add_edge(2, 4)\n",
    "g.add_edge(2, 3)\n",
    "g.add_edge(1, 5)\n",
    "g.add_edge(5, 6)\n",
    "g.add_edge(7, 3)\n",
    "g.add_edge(3, 4)\n",
    "g.add_edge(7, 8)\n",
    "g.add_edge(5, 0)\n",
    "\n",
    "topological_sort(g)"
   ]
  },
  {
   "cell_type": "code",
   "execution_count": null,
   "metadata": {
    "collapsed": true
   },
   "outputs": [],
   "source": []
  }
 ],
 "metadata": {
  "kernelspec": {
   "display_name": "Python 3",
   "language": "python",
   "name": "python3"
  },
  "language_info": {
   "codemirror_mode": {
    "name": "ipython",
    "version": 3
   },
   "file_extension": ".py",
   "mimetype": "text/x-python",
   "name": "python",
   "nbconvert_exporter": "python",
   "pygments_lexer": "ipython3",
   "version": "3.6.8"
  }
 },
 "nbformat": 4,
 "nbformat_minor": 2
}
